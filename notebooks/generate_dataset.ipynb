{
 "cells": [
  {
   "attachments": {},
   "cell_type": "markdown",
   "metadata": {},
   "source": [
    "## Install Requirements"
   ]
  },
  {
   "cell_type": "code",
   "execution_count": null,
   "metadata": {},
   "outputs": [],
   "source": [
    "# install ultralytic\n",
    "!pip3 install git+https://github.com/ultralytics/ultralytics.git\n",
    "!pip3 install kaggle opendatasets\n"
   ]
  },
  {
   "attachments": {},
   "cell_type": "markdown",
   "metadata": {},
   "source": [
    "## Download Dataset\n",
    "\n",
    "Yoga pose image dataset from kaggle  public dataset https://www.kaggle.com/datasets/ujjwalchowdhury/yoga-pose-classification this use 5 yoga pose"
   ]
  },
  {
   "cell_type": "code",
   "execution_count": null,
   "metadata": {},
   "outputs": [],
   "source": [
    "# Download kaggle dataset\n",
    "import opendatasets as od\n",
    "\n",
    "od.download(\n",
    "    'https://www.kaggle.com/datasets/ujjwalchowdhury/yoga-pose-classification'\n",
    ")"
   ]
  },
  {
   "cell_type": "code",
   "execution_count": null,
   "metadata": {},
   "outputs": [],
   "source": [
    "!ls /content/yoga-pose-classification/YogaPoses"
   ]
  },
  {
   "attachments": {},
   "cell_type": "markdown",
   "metadata": {},
   "source": [
    "## Yolov8 Pose"
   ]
  },
  {
   "cell_type": "code",
   "execution_count": null,
   "metadata": {},
   "outputs": [],
   "source": [
    "import cv2\n",
    "from PIL import Image\n",
    "from pydantic import BaseModel\n",
    "\n",
    "import ultralytics"
   ]
  },
  {
   "cell_type": "code",
   "execution_count": null,
   "metadata": {},
   "outputs": [],
   "source": [
    "model = ultralytics.YOLO(model='yolov8m-pose.pt')"
   ]
  },
  {
   "cell_type": "code",
   "execution_count": null,
   "metadata": {},
   "outputs": [],
   "source": [
    "image = cv2.imread('/content/yoga-pose-classification/YogaPoses/Plank/00000006.jpg')\n",
    "result = model.predict(image, save=False)[0]\n",
    "result_keypoint = result.keypoints.xyn.cpu().numpy()[0]\n",
    "result.boxes.xyxy\n"
   ]
  },
  {
   "cell_type": "code",
   "execution_count": null,
   "metadata": {},
   "outputs": [],
   "source": [
    "result.keypoints[0]"
   ]
  },
  {
   "cell_type": "code",
   "execution_count": null,
   "metadata": {},
   "outputs": [],
   "source": [
    "Image.fromarray(cv2.cvtColor(result.plot(), cv2.COLOR_BGR2RGB))"
   ]
  },
  {
   "attachments": {},
   "cell_type": "markdown",
   "metadata": {},
   "source": [
    "## Generate Dataset"
   ]
  },
  {
   "attachments": {},
   "cell_type": "markdown",
   "metadata": {},
   "source": [
    "### Keypoint extract"
   ]
  },
  {
   "attachments": {},
   "cell_type": "markdown",
   "metadata": {},
   "source": [
    "Yolov8 pose estimation memiliki 17 keypoint \n",
    "* NOSE:           int = 0\n",
    "* LEFT_EYE:       int = 1\n",
    "* RIGHT_EYE:      int = 2\n",
    "* LEFT_EAR:       int = 3\n",
    "* RIGHT_EAR:      int = 4\n",
    "* LEFT_SHOULDER:  int = 5\n",
    "* RIGHT_SHOULDER: int = 6\n",
    "* LEFT_ELBOW:     int = 7\n",
    "* RIGHT_ELBOW:    int = 8\n",
    "* LEFT_WRIST:     int = 9\n",
    "* RIGHT_WRIST:    int = 10\n",
    "* LEFT_HIP:       int = 11\n",
    "* RIGHT_HIP:      int = 12\n",
    "* LEFT_KNEE:      int = 13\n",
    "* RIGHT_KNEE:     int = 14\n",
    "* LEFT_ANKLE:     int = 15\n",
    "* RIGHT_ANKLE:    int = 16"
   ]
  },
  {
   "cell_type": "code",
   "execution_count": null,
   "metadata": {},
   "outputs": [],
   "source": [
    "class GetKeypoint(BaseModel):\n",
    "    NOSE:           int = 0\n",
    "    LEFT_EYE:       int = 1\n",
    "    RIGHT_EYE:      int = 2\n",
    "    LEFT_EAR:       int = 3\n",
    "    RIGHT_EAR:      int = 4\n",
    "    LEFT_SHOULDER:  int = 5\n",
    "    RIGHT_SHOULDER: int = 6\n",
    "    LEFT_ELBOW:     int = 7\n",
    "    RIGHT_ELBOW:    int = 8\n",
    "    LEFT_WRIST:     int = 9\n",
    "    RIGHT_WRIST:    int = 10\n",
    "    LEFT_HIP:       int = 11\n",
    "    RIGHT_HIP:      int = 12\n",
    "    LEFT_KNEE:      int = 13\n",
    "    RIGHT_KNEE:     int = 14\n",
    "    LEFT_ANKLE:     int = 15\n",
    "    RIGHT_ANKLE:    int = 16\n",
    "\n",
    "get_keypoint = GetKeypoint()"
   ]
  },
  {
   "cell_type": "code",
   "execution_count": null,
   "metadata": {},
   "outputs": [],
   "source": [
    "import os\n",
    "import glob"
   ]
  },
  {
   "cell_type": "code",
   "execution_count": null,
   "metadata": {},
   "outputs": [],
   "source": [
    "dataset_root = '/content/yoga-pose-classification/YogaPoses'\n",
    "pose_list = os.listdir(dataset_root)\n",
    "pose_list"
   ]
  },
  {
   "cell_type": "code",
   "execution_count": null,
   "metadata": {},
   "outputs": [],
   "source": [
    "def extract_keypoint(keypoint):\n",
    "    # nose\n",
    "    nose_x, nose_y = keypoint[get_keypoint.NOSE]\n",
    "    # eye\n",
    "    left_eye_x, left_eye_y = keypoint[get_keypoint.LEFT_EYE]\n",
    "    right_eye_x, right_eye_y = keypoint[get_keypoint.RIGHT_EYE]\n",
    "    # ear\n",
    "    left_ear_x, left_ear_y = keypoint[get_keypoint.LEFT_EAR]\n",
    "    right_ear_x, right_ear_y = keypoint[get_keypoint.RIGHT_EAR]\n",
    "    # shoulder\n",
    "    left_shoulder_x, left_shoulder_y = keypoint[get_keypoint.LEFT_SHOULDER]\n",
    "    right_shoulder_x, right_shoulder_y = keypoint[get_keypoint.RIGHT_SHOULDER]\n",
    "    # elbow\n",
    "    left_elbow_x, left_elbow_y = keypoint[get_keypoint.LEFT_ELBOW]\n",
    "    right_elbow_x, right_elbow_y = keypoint[get_keypoint.RIGHT_ELBOW]\n",
    "    # wrist\n",
    "    left_wrist_x, left_wrist_y = keypoint[get_keypoint.LEFT_WRIST]\n",
    "    right_wrist_x, right_wrist_y = keypoint[get_keypoint.RIGHT_WRIST]\n",
    "    # hip\n",
    "    left_hip_x, left_hip_y = keypoint[get_keypoint.LEFT_HIP]\n",
    "    right_hip_x, right_hip_y = keypoint[get_keypoint.RIGHT_HIP]\n",
    "    # knee\n",
    "    left_knee_x, left_knee_y = keypoint[get_keypoint.LEFT_KNEE]\n",
    "    right_knee_x, right_knee_y = keypoint[get_keypoint.RIGHT_KNEE]\n",
    "    # ankle\n",
    "    left_ankle_x, left_ankle_y = keypoint[get_keypoint.LEFT_ANKLE]\n",
    "    right_ankle_x, right_ankle_y = keypoint[get_keypoint.RIGHT_ANKLE]\n",
    "    \n",
    "    return [\n",
    "        nose_x, nose_y,\n",
    "        left_eye_x, left_eye_y,\n",
    "        right_eye_x, right_eye_y,\n",
    "        left_ear_x, left_ear_y,\n",
    "        right_ear_x, right_ear_y,\n",
    "        left_shoulder_x, left_shoulder_y,\n",
    "        right_shoulder_x, right_shoulder_y,\n",
    "        left_elbow_x, left_elbow_y,\n",
    "        right_elbow_x, right_elbow_y,\n",
    "        left_wrist_x, left_wrist_y,\n",
    "        right_wrist_x, right_wrist_y,\n",
    "        left_hip_x, left_hip_y,\n",
    "        right_hip_x, right_hip_y,\n",
    "        left_knee_x, left_knee_y,\n",
    "        right_knee_x, right_knee_y,        \n",
    "        left_ankle_x, left_ankle_y,\n",
    "        right_ankle_x, right_ankle_y\n",
    "    ]"
   ]
  },
  {
   "attachments": {},
   "cell_type": "markdown",
   "metadata": {},
   "source": [
    "### Run image"
   ]
  },
  {
   "cell_type": "code",
   "execution_count": null,
   "metadata": {},
   "outputs": [],
   "source": [
    "dataset_csv = []\n",
    "for pose in pose_list:\n",
    "    image_path_list = glob.glob(f'{dataset_root}/{pose}/*.jpg')\n",
    "    for image_path in image_path_list:\n",
    "        # get image_name\n",
    "        image_name = image_path.split('/')[-1]\n",
    "        # read numpy image\n",
    "        image = cv2.imread(image_path)\n",
    "        # get height width image\n",
    "        height, width = image.shape[:2]\n",
    "        \n",
    "        # detect pose using yolov8-pose\n",
    "        results = model.predict(image, save=False)[0]\n",
    "        results_keypoint = results.keypoints.xyn.cpu().numpy()\n",
    "        for result_keypoint in results_keypoint:\n",
    "            if len(result_keypoint) == 17:\n",
    "                keypoint_list = extract_keypoint(result_keypoint)\n",
    "\n",
    "                # inset image_name, labe] in index 0,1\n",
    "                keypoint_list.insert(0, image_name)\n",
    "                keypoint_list.insert(1, pose)\n",
    "                dataset_csv.append(keypoint_list)\n",
    "        # break\n",
    "    # break\n"
   ]
  },
  {
   "cell_type": "code",
   "execution_count": null,
   "metadata": {},
   "outputs": [],
   "source": [
    "import csv\n",
    "# write csv\n",
    "header = [\n",
    "    'image_name',\n",
    "    'label',\n",
    "    # nose\n",
    "    'nose_x',\n",
    "    'nose_y',\n",
    "    # left eye\n",
    "    'left_eye_x',\n",
    "    'left_eye_y',\n",
    "    # right eye\n",
    "    'right_eye_x',\n",
    "    'right_eye_y',\n",
    "    # left ear\n",
    "    'left_ear_x',\n",
    "    'left_ear_y',\n",
    "    # right ear\n",
    "    'right_ear_x',\n",
    "    'right_ear_y',\n",
    "    # left shoulder\n",
    "    'left_shoulder_x',\n",
    "    'left_shoulder_y',\n",
    "    # right sholder\n",
    "    'right_shoulder_x',\n",
    "    'right_shoulder_y',\n",
    "    # left elbow\n",
    "    'left_elbow_x',\n",
    "    'left_elbow_y',\n",
    "    # rigth elbow\n",
    "    'right_elbow_x',\n",
    "    'right_elbow_y',\n",
    "    # left wrist\n",
    "    'left_wrist_x',\n",
    "    'left_wrist_y',\n",
    "    # right wrist\n",
    "    'right_wrist_x',\n",
    "    'right_wrist_y',\n",
    "    # left hip\n",
    "    'left_hip_x',\n",
    "    'left_hip_y',\n",
    "    # right hip\n",
    "    'right_hip_x',\n",
    "    'right_hip_y',\n",
    "    # left knee\n",
    "    'left_knee_x',\n",
    "    'left_knee_y',\n",
    "    # right knee\n",
    "    'right_knee_x',\n",
    "    'right_knee_y',\n",
    "    # left ankle\n",
    "    'left_ankle_x',\n",
    "    'left_ankle_y',\n",
    "    # right ankle\n",
    "    'right_ankle_x',\n",
    "    'right_ankle_y'\n",
    "]\n",
    "\n",
    "with open('yoga_pose_keypoint.csv', 'w', encoding='UTF8', newline='') as f:\n",
    "    writer = csv.writer(f)\n",
    "\n",
    "    # write the header\n",
    "    writer.writerow(header)\n",
    "\n",
    "    # write multiple rows\n",
    "    writer.writerows(dataset_csv)\n"
   ]
  },
  {
   "attachments": {},
   "cell_type": "markdown",
   "metadata": {},
   "source": [
    "### Write Dataset"
   ]
  },
  {
   "cell_type": "code",
   "execution_count": null,
   "metadata": {},
   "outputs": [],
   "source": [
    "import pandas as pd\n",
    "\n",
    "df = pd.read_csv('yoga_pose_keypoint.csv')\n",
    "df = df.drop('image_name', axis=1)\n",
    "df.head()"
   ]
  }
 ],
 "metadata": {
  "language_info": {
   "name": "python"
  },
  "orig_nbformat": 4
 },
 "nbformat": 4,
 "nbformat_minor": 2
}
