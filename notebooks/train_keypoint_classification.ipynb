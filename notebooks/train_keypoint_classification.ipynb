{
 "cells": [
  {
   "cell_type": "code",
   "execution_count": 1,
   "metadata": {},
   "outputs": [],
   "source": [
    "import numpy as np\n",
    "import pandas as pd\n",
    "from tqdm import tqdm\n",
    "import matplotlib.pyplot as plt\n",
    "\n",
    "from sklearn.preprocessing import LabelEncoder, MinMaxScaler\n",
    "from sklearn.utils.class_weight import compute_class_weight\n",
    "from sklearn.model_selection import train_test_split\n",
    "from sklearn.metrics import classification_report, confusion_matrix\n",
    "\n",
    "import torch\n",
    "from torch import nn\n",
    "from torch.utils.data import Dataset, DataLoader, SubsetRandomSampler\n",
    "\n",
    "device = torch.device(\"cuda\" if torch.cuda.is_available() else \"cpu\")"
   ]
  },
  {
   "attachments": {},
   "cell_type": "markdown",
   "metadata": {},
   "source": [
    "## Read Dataset"
   ]
  },
  {
   "cell_type": "code",
   "execution_count": 2,
   "metadata": {},
   "outputs": [
    {
     "data": {
      "text/html": [
       "<div>\n",
       "<style scoped>\n",
       "    .dataframe tbody tr th:only-of-type {\n",
       "        vertical-align: middle;\n",
       "    }\n",
       "\n",
       "    .dataframe tbody tr th {\n",
       "        vertical-align: top;\n",
       "    }\n",
       "\n",
       "    .dataframe thead th {\n",
       "        text-align: right;\n",
       "    }\n",
       "</style>\n",
       "<table border=\"1\" class=\"dataframe\">\n",
       "  <thead>\n",
       "    <tr style=\"text-align: right;\">\n",
       "      <th></th>\n",
       "      <th>image_name</th>\n",
       "      <th>label</th>\n",
       "      <th>nose_x</th>\n",
       "      <th>nose_y</th>\n",
       "      <th>left_eye_x</th>\n",
       "      <th>left_eye_y</th>\n",
       "      <th>right_eye_x</th>\n",
       "      <th>right_eye_y</th>\n",
       "      <th>left_ear_x</th>\n",
       "      <th>left_ear_y</th>\n",
       "      <th>...</th>\n",
       "      <th>right_hip_x</th>\n",
       "      <th>right_hip_y</th>\n",
       "      <th>left_knee_x</th>\n",
       "      <th>left_knee_y</th>\n",
       "      <th>right_knee_x</th>\n",
       "      <th>right_knee_y</th>\n",
       "      <th>left_ankle_x</th>\n",
       "      <th>left_ankle_y</th>\n",
       "      <th>right_ankle_x</th>\n",
       "      <th>right_ankle_y</th>\n",
       "    </tr>\n",
       "  </thead>\n",
       "  <tbody>\n",
       "    <tr>\n",
       "      <th>0</th>\n",
       "      <td>00000050.jpg</td>\n",
       "      <td>Tree</td>\n",
       "      <td>0.382093</td>\n",
       "      <td>0.257968</td>\n",
       "      <td>0.391399</td>\n",
       "      <td>0.241947</td>\n",
       "      <td>0.372659</td>\n",
       "      <td>0.245997</td>\n",
       "      <td>0.406780</td>\n",
       "      <td>0.254452</td>\n",
       "      <td>...</td>\n",
       "      <td>0.333761</td>\n",
       "      <td>0.558663</td>\n",
       "      <td>0.392117</td>\n",
       "      <td>0.755331</td>\n",
       "      <td>0.250896</td>\n",
       "      <td>0.652156</td>\n",
       "      <td>0.376760</td>\n",
       "      <td>0.935382</td>\n",
       "      <td>0.356965</td>\n",
       "      <td>0.698799</td>\n",
       "    </tr>\n",
       "    <tr>\n",
       "      <th>1</th>\n",
       "      <td>00000115.jpg</td>\n",
       "      <td>Tree</td>\n",
       "      <td>0.519270</td>\n",
       "      <td>0.255041</td>\n",
       "      <td>0.532213</td>\n",
       "      <td>0.245500</td>\n",
       "      <td>0.507912</td>\n",
       "      <td>0.246149</td>\n",
       "      <td>0.551442</td>\n",
       "      <td>0.253780</td>\n",
       "      <td>...</td>\n",
       "      <td>0.450827</td>\n",
       "      <td>0.522638</td>\n",
       "      <td>0.431247</td>\n",
       "      <td>0.639775</td>\n",
       "      <td>0.325909</td>\n",
       "      <td>0.628067</td>\n",
       "      <td>0.524197</td>\n",
       "      <td>0.692013</td>\n",
       "      <td>0.483356</td>\n",
       "      <td>0.720042</td>\n",
       "    </tr>\n",
       "    <tr>\n",
       "      <th>2</th>\n",
       "      <td>File18.jpg</td>\n",
       "      <td>Tree</td>\n",
       "      <td>0.556664</td>\n",
       "      <td>0.095961</td>\n",
       "      <td>0.584013</td>\n",
       "      <td>0.079112</td>\n",
       "      <td>0.534531</td>\n",
       "      <td>0.080056</td>\n",
       "      <td>0.623709</td>\n",
       "      <td>0.099832</td>\n",
       "      <td>...</td>\n",
       "      <td>0.449697</td>\n",
       "      <td>0.434010</td>\n",
       "      <td>0.558200</td>\n",
       "      <td>0.676735</td>\n",
       "      <td>0.281906</td>\n",
       "      <td>0.593556</td>\n",
       "      <td>0.540054</td>\n",
       "      <td>0.870345</td>\n",
       "      <td>0.548005</td>\n",
       "      <td>0.642861</td>\n",
       "    </tr>\n",
       "    <tr>\n",
       "      <th>3</th>\n",
       "      <td>00000015.jpg</td>\n",
       "      <td>Tree</td>\n",
       "      <td>0.532582</td>\n",
       "      <td>0.157779</td>\n",
       "      <td>0.555585</td>\n",
       "      <td>0.138082</td>\n",
       "      <td>0.508886</td>\n",
       "      <td>0.141423</td>\n",
       "      <td>0.593476</td>\n",
       "      <td>0.145060</td>\n",
       "      <td>...</td>\n",
       "      <td>0.437187</td>\n",
       "      <td>0.467791</td>\n",
       "      <td>0.520381</td>\n",
       "      <td>0.710909</td>\n",
       "      <td>0.274717</td>\n",
       "      <td>0.625992</td>\n",
       "      <td>0.511054</td>\n",
       "      <td>0.890891</td>\n",
       "      <td>0.482737</td>\n",
       "      <td>0.641685</td>\n",
       "    </tr>\n",
       "    <tr>\n",
       "      <th>4</th>\n",
       "      <td>00000146.jpg</td>\n",
       "      <td>Tree</td>\n",
       "      <td>0.344753</td>\n",
       "      <td>0.345279</td>\n",
       "      <td>0.335593</td>\n",
       "      <td>0.340012</td>\n",
       "      <td>0.346564</td>\n",
       "      <td>0.341552</td>\n",
       "      <td>0.309915</td>\n",
       "      <td>0.352611</td>\n",
       "      <td>...</td>\n",
       "      <td>0.349100</td>\n",
       "      <td>0.605576</td>\n",
       "      <td>0.332953</td>\n",
       "      <td>0.772299</td>\n",
       "      <td>0.408190</td>\n",
       "      <td>0.659132</td>\n",
       "      <td>0.331446</td>\n",
       "      <td>0.897634</td>\n",
       "      <td>0.342666</td>\n",
       "      <td>0.702299</td>\n",
       "    </tr>\n",
       "  </tbody>\n",
       "</table>\n",
       "<p>5 rows × 36 columns</p>\n",
       "</div>"
      ],
      "text/plain": [
       "     image_name label    nose_x    nose_y  left_eye_x  left_eye_y  \\\n",
       "0  00000050.jpg  Tree  0.382093  0.257968    0.391399    0.241947   \n",
       "1  00000115.jpg  Tree  0.519270  0.255041    0.532213    0.245500   \n",
       "2    File18.jpg  Tree  0.556664  0.095961    0.584013    0.079112   \n",
       "3  00000015.jpg  Tree  0.532582  0.157779    0.555585    0.138082   \n",
       "4  00000146.jpg  Tree  0.344753  0.345279    0.335593    0.340012   \n",
       "\n",
       "   right_eye_x  right_eye_y  left_ear_x  left_ear_y  ...  right_hip_x  \\\n",
       "0     0.372659     0.245997    0.406780    0.254452  ...     0.333761   \n",
       "1     0.507912     0.246149    0.551442    0.253780  ...     0.450827   \n",
       "2     0.534531     0.080056    0.623709    0.099832  ...     0.449697   \n",
       "3     0.508886     0.141423    0.593476    0.145060  ...     0.437187   \n",
       "4     0.346564     0.341552    0.309915    0.352611  ...     0.349100   \n",
       "\n",
       "   right_hip_y  left_knee_x  left_knee_y  right_knee_x  right_knee_y  \\\n",
       "0     0.558663     0.392117     0.755331      0.250896      0.652156   \n",
       "1     0.522638     0.431247     0.639775      0.325909      0.628067   \n",
       "2     0.434010     0.558200     0.676735      0.281906      0.593556   \n",
       "3     0.467791     0.520381     0.710909      0.274717      0.625992   \n",
       "4     0.605576     0.332953     0.772299      0.408190      0.659132   \n",
       "\n",
       "   left_ankle_x  left_ankle_y  right_ankle_x  right_ankle_y  \n",
       "0      0.376760      0.935382       0.356965       0.698799  \n",
       "1      0.524197      0.692013       0.483356       0.720042  \n",
       "2      0.540054      0.870345       0.548005       0.642861  \n",
       "3      0.511054      0.890891       0.482737       0.641685  \n",
       "4      0.331446      0.897634       0.342666       0.702299  \n",
       "\n",
       "[5 rows x 36 columns]"
      ]
     },
     "execution_count": 2,
     "metadata": {},
     "output_type": "execute_result"
    }
   ],
   "source": [
    "df = pd.read_csv('/Users/alimustofa/Me/source-code/AI/YoloV8_Pose_Classification/datasets/yoga_pose_keypoint.csv')\n",
    "df.head()"
   ]
  },
  {
   "cell_type": "code",
   "execution_count": 3,
   "metadata": {},
   "outputs": [
    {
     "name": "stdout",
     "output_type": "stream",
     "text": [
      "<class 'pandas.core.frame.DataFrame'>\n",
      "RangeIndex: 1006 entries, 0 to 1005\n",
      "Data columns (total 36 columns):\n",
      " #   Column            Non-Null Count  Dtype  \n",
      "---  ------            --------------  -----  \n",
      " 0   image_name        1006 non-null   object \n",
      " 1   label             1006 non-null   object \n",
      " 2   nose_x            1006 non-null   float64\n",
      " 3   nose_y            1006 non-null   float64\n",
      " 4   left_eye_x        1006 non-null   float64\n",
      " 5   left_eye_y        1006 non-null   float64\n",
      " 6   right_eye_x       1006 non-null   float64\n",
      " 7   right_eye_y       1006 non-null   float64\n",
      " 8   left_ear_x        1006 non-null   float64\n",
      " 9   left_ear_y        1006 non-null   float64\n",
      " 10  right_ear_x       1006 non-null   float64\n",
      " 11  right_ear_y       1006 non-null   float64\n",
      " 12  left_shoulder_x   1006 non-null   float64\n",
      " 13  left_shoulder_y   1006 non-null   float64\n",
      " 14  right_shoulder_x  1006 non-null   float64\n",
      " 15  right_shoulder_y  1006 non-null   float64\n",
      " 16  left_elbow_x      1006 non-null   float64\n",
      " 17  left_elbow_y      1006 non-null   float64\n",
      " 18  right_elbow_x     1006 non-null   float64\n",
      " 19  right_elbow_y     1006 non-null   float64\n",
      " 20  left_wrist_x      1006 non-null   float64\n",
      " 21  left_wrist_y      1006 non-null   float64\n",
      " 22  right_wrist_x     1006 non-null   float64\n",
      " 23  right_wrist_y     1006 non-null   float64\n",
      " 24  left_hip_x        1006 non-null   float64\n",
      " 25  left_hip_y        1006 non-null   float64\n",
      " 26  right_hip_x       1006 non-null   float64\n",
      " 27  right_hip_y       1006 non-null   float64\n",
      " 28  left_knee_x       1006 non-null   float64\n",
      " 29  left_knee_y       1006 non-null   float64\n",
      " 30  right_knee_x      1006 non-null   float64\n",
      " 31  right_knee_y      1006 non-null   float64\n",
      " 32  left_ankle_x      1006 non-null   float64\n",
      " 33  left_ankle_y      1006 non-null   float64\n",
      " 34  right_ankle_x     1006 non-null   float64\n",
      " 35  right_ankle_y     1006 non-null   float64\n",
      "dtypes: float64(34), object(2)\n",
      "memory usage: 283.1+ KB\n"
     ]
    }
   ],
   "source": [
    "df.info()"
   ]
  },
  {
   "cell_type": "code",
   "execution_count": 4,
   "metadata": {},
   "outputs": [
    {
     "data": {
      "image/png": "[encoded data removed]",
      "text/plain": [
       "<Figure size 640x480 with 1 Axes>"
      ]
     },
     "metadata": {},
     "output_type": "display_data"
    }
   ],
   "source": [
    "df.label.value_counts().plot(kind=\"bar\")\n",
    "plt.xticks(rotation=45)\n",
    "plt.show()"
   ]
  },
  {
   "attachments": {},
   "cell_type": "markdown",
   "metadata": {},
   "source": [
    "## Train Test Split"
   ]
  },
  {
   "cell_type": "code",
   "execution_count": 5,
   "metadata": {},
   "outputs": [
    {
     "data": {
      "text/plain": [
       "array([3, 3, 3, ..., 4, 4, 4])"
      ]
     },
     "execution_count": 5,
     "metadata": {},
     "output_type": "execute_result"
    }
   ],
   "source": [
    "# encoder label\n",
    "encoder = LabelEncoder()\n",
    "y_label = df['label']\n",
    "y = encoder.fit_transform(y_label)\n",
    "y"
   ]
  },
  {
   "cell_type": "code",
   "execution_count": 6,
   "metadata": {},
   "outputs": [
    {
     "data": {
      "text/plain": [
       "array([1.00099502, 0.98146341, 1.006     , 1.00099502, 1.01105528])"
      ]
     },
     "execution_count": 6,
     "metadata": {},
     "output_type": "execute_result"
    }
   ],
   "source": [
    "class_weights = compute_class_weight(class_weight='balanced', classes=np.unique(y), y=y)\n",
    "class_weights"
   ]
  },
  {
   "cell_type": "code",
   "execution_count": 7,
   "metadata": {},
   "outputs": [
    {
     "data": {
      "text/html": [
       "<div>\n",
       "<style scoped>\n",
       "    .dataframe tbody tr th:only-of-type {\n",
       "        vertical-align: middle;\n",
       "    }\n",
       "\n",
       "    .dataframe tbody tr th {\n",
       "        vertical-align: top;\n",
       "    }\n",
       "\n",
       "    .dataframe thead th {\n",
       "        text-align: right;\n",
       "    }\n",
       "</style>\n",
       "<table border=\"1\" class=\"dataframe\">\n",
       "  <thead>\n",
       "    <tr style=\"text-align: right;\">\n",
       "      <th></th>\n",
       "      <th>left_shoulder_x</th>\n",
       "      <th>left_shoulder_y</th>\n",
       "      <th>right_shoulder_x</th>\n",
       "      <th>right_shoulder_y</th>\n",
       "      <th>left_elbow_x</th>\n",
       "      <th>left_elbow_y</th>\n",
       "      <th>right_elbow_x</th>\n",
       "      <th>right_elbow_y</th>\n",
       "      <th>left_wrist_x</th>\n",
       "      <th>left_wrist_y</th>\n",
       "      <th>...</th>\n",
       "      <th>right_hip_x</th>\n",
       "      <th>right_hip_y</th>\n",
       "      <th>left_knee_x</th>\n",
       "      <th>left_knee_y</th>\n",
       "      <th>right_knee_x</th>\n",
       "      <th>right_knee_y</th>\n",
       "      <th>left_ankle_x</th>\n",
       "      <th>left_ankle_y</th>\n",
       "      <th>right_ankle_x</th>\n",
       "      <th>right_ankle_y</th>\n",
       "    </tr>\n",
       "  </thead>\n",
       "  <tbody>\n",
       "    <tr>\n",
       "      <th>0</th>\n",
       "      <td>0.424617</td>\n",
       "      <td>0.342608</td>\n",
       "      <td>0.336943</td>\n",
       "      <td>0.335260</td>\n",
       "      <td>0.451014</td>\n",
       "      <td>0.233721</td>\n",
       "      <td>0.315634</td>\n",
       "      <td>0.208830</td>\n",
       "      <td>0.460854</td>\n",
       "      <td>0.118578</td>\n",
       "      <td>...</td>\n",
       "      <td>0.333761</td>\n",
       "      <td>0.558663</td>\n",
       "      <td>0.392117</td>\n",
       "      <td>0.755331</td>\n",
       "      <td>0.250896</td>\n",
       "      <td>0.652156</td>\n",
       "      <td>0.376760</td>\n",
       "      <td>0.935382</td>\n",
       "      <td>0.356965</td>\n",
       "      <td>0.698799</td>\n",
       "    </tr>\n",
       "    <tr>\n",
       "      <th>1</th>\n",
       "      <td>0.589480</td>\n",
       "      <td>0.315508</td>\n",
       "      <td>0.453138</td>\n",
       "      <td>0.310921</td>\n",
       "      <td>0.651657</td>\n",
       "      <td>0.227197</td>\n",
       "      <td>0.376035</td>\n",
       "      <td>0.220531</td>\n",
       "      <td>0.533466</td>\n",
       "      <td>0.176462</td>\n",
       "      <td>...</td>\n",
       "      <td>0.450827</td>\n",
       "      <td>0.522638</td>\n",
       "      <td>0.431247</td>\n",
       "      <td>0.639775</td>\n",
       "      <td>0.325909</td>\n",
       "      <td>0.628067</td>\n",
       "      <td>0.524197</td>\n",
       "      <td>0.692013</td>\n",
       "      <td>0.483356</td>\n",
       "      <td>0.720042</td>\n",
       "    </tr>\n",
       "    <tr>\n",
       "      <th>2</th>\n",
       "      <td>0.693609</td>\n",
       "      <td>0.219494</td>\n",
       "      <td>0.417954</td>\n",
       "      <td>0.224509</td>\n",
       "      <td>0.776201</td>\n",
       "      <td>0.296287</td>\n",
       "      <td>0.322378</td>\n",
       "      <td>0.307532</td>\n",
       "      <td>0.600253</td>\n",
       "      <td>0.265993</td>\n",
       "      <td>...</td>\n",
       "      <td>0.449697</td>\n",
       "      <td>0.434010</td>\n",
       "      <td>0.558200</td>\n",
       "      <td>0.676735</td>\n",
       "      <td>0.281906</td>\n",
       "      <td>0.593556</td>\n",
       "      <td>0.540054</td>\n",
       "      <td>0.870345</td>\n",
       "      <td>0.548005</td>\n",
       "      <td>0.642861</td>\n",
       "    </tr>\n",
       "    <tr>\n",
       "      <th>3</th>\n",
       "      <td>0.660799</td>\n",
       "      <td>0.260707</td>\n",
       "      <td>0.413654</td>\n",
       "      <td>0.270484</td>\n",
       "      <td>0.729965</td>\n",
       "      <td>0.385931</td>\n",
       "      <td>0.362548</td>\n",
       "      <td>0.395031</td>\n",
       "      <td>0.596187</td>\n",
       "      <td>0.346363</td>\n",
       "      <td>...</td>\n",
       "      <td>0.437187</td>\n",
       "      <td>0.467791</td>\n",
       "      <td>0.520381</td>\n",
       "      <td>0.710909</td>\n",
       "      <td>0.274717</td>\n",
       "      <td>0.625992</td>\n",
       "      <td>0.511054</td>\n",
       "      <td>0.890891</td>\n",
       "      <td>0.482737</td>\n",
       "      <td>0.641685</td>\n",
       "    </tr>\n",
       "    <tr>\n",
       "      <th>4</th>\n",
       "      <td>0.296271</td>\n",
       "      <td>0.402245</td>\n",
       "      <td>0.360647</td>\n",
       "      <td>0.407716</td>\n",
       "      <td>0.289721</td>\n",
       "      <td>0.299633</td>\n",
       "      <td>0.369867</td>\n",
       "      <td>0.305831</td>\n",
       "      <td>0.315140</td>\n",
       "      <td>0.219617</td>\n",
       "      <td>...</td>\n",
       "      <td>0.349100</td>\n",
       "      <td>0.605576</td>\n",
       "      <td>0.332953</td>\n",
       "      <td>0.772299</td>\n",
       "      <td>0.408190</td>\n",
       "      <td>0.659132</td>\n",
       "      <td>0.331446</td>\n",
       "      <td>0.897634</td>\n",
       "      <td>0.342666</td>\n",
       "      <td>0.702299</td>\n",
       "    </tr>\n",
       "    <tr>\n",
       "      <th>...</th>\n",
       "      <td>...</td>\n",
       "      <td>...</td>\n",
       "      <td>...</td>\n",
       "      <td>...</td>\n",
       "      <td>...</td>\n",
       "      <td>...</td>\n",
       "      <td>...</td>\n",
       "      <td>...</td>\n",
       "      <td>...</td>\n",
       "      <td>...</td>\n",
       "      <td>...</td>\n",
       "      <td>...</td>\n",
       "      <td>...</td>\n",
       "      <td>...</td>\n",
       "      <td>...</td>\n",
       "      <td>...</td>\n",
       "      <td>...</td>\n",
       "      <td>...</td>\n",
       "      <td>...</td>\n",
       "      <td>...</td>\n",
       "      <td>...</td>\n",
       "    </tr>\n",
       "    <tr>\n",
       "      <th>1001</th>\n",
       "      <td>0.467357</td>\n",
       "      <td>0.353031</td>\n",
       "      <td>0.601015</td>\n",
       "      <td>0.340104</td>\n",
       "      <td>0.349533</td>\n",
       "      <td>0.329071</td>\n",
       "      <td>0.730516</td>\n",
       "      <td>0.351984</td>\n",
       "      <td>0.255759</td>\n",
       "      <td>0.318375</td>\n",
       "      <td>...</td>\n",
       "      <td>0.597950</td>\n",
       "      <td>0.583271</td>\n",
       "      <td>0.369833</td>\n",
       "      <td>0.764038</td>\n",
       "      <td>0.741054</td>\n",
       "      <td>0.688727</td>\n",
       "      <td>0.198313</td>\n",
       "      <td>0.869421</td>\n",
       "      <td>0.808196</td>\n",
       "      <td>0.896311</td>\n",
       "    </tr>\n",
       "    <tr>\n",
       "      <th>1002</th>\n",
       "      <td>0.552082</td>\n",
       "      <td>0.425189</td>\n",
       "      <td>0.424876</td>\n",
       "      <td>0.415166</td>\n",
       "      <td>0.673358</td>\n",
       "      <td>0.442493</td>\n",
       "      <td>0.307205</td>\n",
       "      <td>0.436388</td>\n",
       "      <td>0.768636</td>\n",
       "      <td>0.447744</td>\n",
       "      <td>...</td>\n",
       "      <td>0.425132</td>\n",
       "      <td>0.637139</td>\n",
       "      <td>0.658695</td>\n",
       "      <td>0.728822</td>\n",
       "      <td>0.302627</td>\n",
       "      <td>0.670267</td>\n",
       "      <td>0.771475</td>\n",
       "      <td>0.827222</td>\n",
       "      <td>0.302183</td>\n",
       "      <td>0.833196</td>\n",
       "    </tr>\n",
       "    <tr>\n",
       "      <th>1003</th>\n",
       "      <td>0.632437</td>\n",
       "      <td>0.330302</td>\n",
       "      <td>0.547641</td>\n",
       "      <td>0.335805</td>\n",
       "      <td>0.717520</td>\n",
       "      <td>0.340644</td>\n",
       "      <td>0.457332</td>\n",
       "      <td>0.339002</td>\n",
       "      <td>0.792252</td>\n",
       "      <td>0.307535</td>\n",
       "      <td>...</td>\n",
       "      <td>0.544859</td>\n",
       "      <td>0.549379</td>\n",
       "      <td>0.706932</td>\n",
       "      <td>0.609090</td>\n",
       "      <td>0.472401</td>\n",
       "      <td>0.656969</td>\n",
       "      <td>0.704039</td>\n",
       "      <td>0.766374</td>\n",
       "      <td>0.368973</td>\n",
       "      <td>0.776699</td>\n",
       "    </tr>\n",
       "    <tr>\n",
       "      <th>1004</th>\n",
       "      <td>0.574252</td>\n",
       "      <td>0.332210</td>\n",
       "      <td>0.460697</td>\n",
       "      <td>0.333081</td>\n",
       "      <td>0.692204</td>\n",
       "      <td>0.319768</td>\n",
       "      <td>0.337144</td>\n",
       "      <td>0.367445</td>\n",
       "      <td>0.801876</td>\n",
       "      <td>0.301595</td>\n",
       "      <td>...</td>\n",
       "      <td>0.460548</td>\n",
       "      <td>0.629266</td>\n",
       "      <td>0.727626</td>\n",
       "      <td>0.748592</td>\n",
       "      <td>0.318314</td>\n",
       "      <td>0.677710</td>\n",
       "      <td>0.858627</td>\n",
       "      <td>0.867028</td>\n",
       "      <td>0.287129</td>\n",
       "      <td>0.909058</td>\n",
       "    </tr>\n",
       "    <tr>\n",
       "      <th>1005</th>\n",
       "      <td>0.579299</td>\n",
       "      <td>0.344758</td>\n",
       "      <td>0.479559</td>\n",
       "      <td>0.365827</td>\n",
       "      <td>0.682386</td>\n",
       "      <td>0.353042</td>\n",
       "      <td>0.373888</td>\n",
       "      <td>0.357987</td>\n",
       "      <td>0.777141</td>\n",
       "      <td>0.334159</td>\n",
       "      <td>...</td>\n",
       "      <td>0.501265</td>\n",
       "      <td>0.635954</td>\n",
       "      <td>0.707817</td>\n",
       "      <td>0.710195</td>\n",
       "      <td>0.398745</td>\n",
       "      <td>0.778990</td>\n",
       "      <td>0.693756</td>\n",
       "      <td>0.912292</td>\n",
       "      <td>0.254382</td>\n",
       "      <td>0.933858</td>\n",
       "    </tr>\n",
       "  </tbody>\n",
       "</table>\n",
       "<p>1006 rows × 24 columns</p>\n",
       "</div>"
      ],
      "text/plain": [
       "      left_shoulder_x  left_shoulder_y  right_shoulder_x  right_shoulder_y  \\\n",
       "0            0.424617         0.342608          0.336943          0.335260   \n",
       "1            0.589480         0.315508          0.453138          0.310921   \n",
       "2            0.693609         0.219494          0.417954          0.224509   \n",
       "3            0.660799         0.260707          0.413654          0.270484   \n",
       "4            0.296271         0.402245          0.360647          0.407716   \n",
       "...               ...              ...               ...               ...   \n",
       "1001         0.467357         0.353031          0.601015          0.340104   \n",
       "1002         0.552082         0.425189          0.424876          0.415166   \n",
       "1003         0.632437         0.330302          0.547641          0.335805   \n",
       "1004         0.574252         0.332210          0.460697          0.333081   \n",
       "1005         0.579299         0.344758          0.479559          0.365827   \n",
       "\n",
       "      left_elbow_x  left_elbow_y  right_elbow_x  right_elbow_y  left_wrist_x  \\\n",
       "0         0.451014      0.233721       0.315634       0.208830      0.460854   \n",
       "1         0.651657      0.227197       0.376035       0.220531      0.533466   \n",
       "2         0.776201      0.296287       0.322378       0.307532      0.600253   \n",
       "3         0.729965      0.385931       0.362548       0.395031      0.596187   \n",
       "4         0.289721      0.299633       0.369867       0.305831      0.315140   \n",
       "...            ...           ...            ...            ...           ...   \n",
       "1001      0.349533      0.329071       0.730516       0.351984      0.255759   \n",
       "1002      0.673358      0.442493       0.307205       0.436388      0.768636   \n",
       "1003      0.717520      0.340644       0.457332       0.339002      0.792252   \n",
       "1004      0.692204      0.319768       0.337144       0.367445      0.801876   \n",
       "1005      0.682386      0.353042       0.373888       0.357987      0.777141   \n",
       "\n",
       "      left_wrist_y  ...  right_hip_x  right_hip_y  left_knee_x  left_knee_y  \\\n",
       "0         0.118578  ...     0.333761     0.558663     0.392117     0.755331   \n",
       "1         0.176462  ...     0.450827     0.522638     0.431247     0.639775   \n",
       "2         0.265993  ...     0.449697     0.434010     0.558200     0.676735   \n",
       "3         0.346363  ...     0.437187     0.467791     0.520381     0.710909   \n",
       "4         0.219617  ...     0.349100     0.605576     0.332953     0.772299   \n",
       "...            ...  ...          ...          ...          ...          ...   \n",
       "1001      0.318375  ...     0.597950     0.583271     0.369833     0.764038   \n",
       "1002      0.447744  ...     0.425132     0.637139     0.658695     0.728822   \n",
       "1003      0.307535  ...     0.544859     0.549379     0.706932     0.609090   \n",
       "1004      0.301595  ...     0.460548     0.629266     0.727626     0.748592   \n",
       "1005      0.334159  ...     0.501265     0.635954     0.707817     0.710195   \n",
       "\n",
       "      right_knee_x  right_knee_y  left_ankle_x  left_ankle_y  right_ankle_x  \\\n",
       "0         0.250896      0.652156      0.376760      0.935382       0.356965   \n",
       "1         0.325909      0.628067      0.524197      0.692013       0.483356   \n",
       "2         0.281906      0.593556      0.540054      0.870345       0.548005   \n",
       "3         0.274717      0.625992      0.511054      0.890891       0.482737   \n",
       "4         0.408190      0.659132      0.331446      0.897634       0.342666   \n",
       "...            ...           ...           ...           ...            ...   \n",
       "1001      0.741054      0.688727      0.198313      0.869421       0.808196   \n",
       "1002      0.302627      0.670267      0.771475      0.827222       0.302183   \n",
       "1003      0.472401      0.656969      0.704039      0.766374       0.368973   \n",
       "1004      0.318314      0.677710      0.858627      0.867028       0.287129   \n",
       "1005      0.398745      0.778990      0.693756      0.912292       0.254382   \n",
       "\n",
       "      right_ankle_y  \n",
       "0          0.698799  \n",
       "1          0.720042  \n",
       "2          0.642861  \n",
       "3          0.641685  \n",
       "4          0.702299  \n",
       "...             ...  \n",
       "1001       0.896311  \n",
       "1002       0.833196  \n",
       "1003       0.776699  \n",
       "1004       0.909058  \n",
       "1005       0.933858  \n",
       "\n",
       "[1006 rows x 24 columns]"
      ]
     },
     "execution_count": 7,
     "metadata": {},
     "output_type": "execute_result"
    }
   ],
   "source": [
    "# Get keypoint dataset\n",
    "X = df.iloc[:,12:]\n",
    "X"
   ]
  },
  {
   "cell_type": "code",
   "execution_count": 10,
   "metadata": {},
   "outputs": [
    {
     "name": "stdout",
     "output_type": "stream",
     "text": [
      "Number of Training keypoints:  804\n",
      "Number of Testing keypoints:  202\n"
     ]
    }
   ],
   "source": [
    "# train test split\n",
    "X_train, X_test, y_train, y_test = train_test_split(X, y, test_size=0.2, stratify=y, shuffle=True, random_state=2022)\n",
    "\n",
    "print(\"Number of Training keypoints: \", len(X_train))\n",
    "print(\"Number of Testing keypoints: \", len(X_test))"
   ]
  },
  {
   "cell_type": "code",
   "execution_count": 11,
   "metadata": {},
   "outputs": [],
   "source": [
    "scaler = MinMaxScaler()"
   ]
  },
  {
   "cell_type": "code",
   "execution_count": 12,
   "metadata": {},
   "outputs": [
    {
     "data": {
      "text/plain": [
       "array([[0.34417519, 0.45682809, 0.48793906, ..., 0.41314268, 0.85394964,\n",
       "        0.37971661],\n",
       "       [0.42936592, 0.38853424, 0.30138805, ..., 0.76699598, 0.31581737,\n",
       "        0.52902319],\n",
       "       [0.46941772, 0.37319336, 0.40830071, ..., 0.85820996, 0.31094469,\n",
       "        0.73058033],\n",
       "       ...,\n",
       "       [0.57503495, 0.74992333, 0.61749294, ..., 0.53610928, 0.18082212,\n",
       "        0.59679452],\n",
       "       [0.44632282, 0.57576281, 0.56673229, ..., 0.56851392, 0.88023296,\n",
       "        0.57052194],\n",
       "       [0.76320104, 0.83342996, 0.77454371, ..., 0.67456042, 0.05807365,\n",
       "        0.68143423]])"
      ]
     },
     "execution_count": 12,
     "metadata": {},
     "output_type": "execute_result"
    }
   ],
   "source": [
    "X_train = scaler.fit_transform(X_train)\n",
    "X_test = scaler.transform(X_test)\n",
    "X_test"
   ]
  },
  {
   "attachments": {},
   "cell_type": "markdown",
   "metadata": {},
   "source": [
    "## Data Loader"
   ]
  },
  {
   "cell_type": "code",
   "execution_count": 13,
   "metadata": {},
   "outputs": [],
   "source": [
    "class DataKeypointClassification(Dataset):\n",
    "    def __init__(self, X, y):\n",
    "        self.x = torch.from_numpy(X.astype(np.float32))\n",
    "        self.y = torch.from_numpy(y.astype(np.int64))\n",
    "        self.n_samples = X.shape[0]\n",
    "    \n",
    "    def __getitem__(self, index):\n",
    "        return self.x[index], self.y[index]\n",
    "    \n",
    "    def __len__(self):\n",
    "        return self.n_samples"
   ]
  },
  {
   "cell_type": "code",
   "execution_count": 14,
   "metadata": {},
   "outputs": [],
   "source": [
    "train_dataset = DataKeypointClassification(X_train, y_train)\n",
    "test_dataset = DataKeypointClassification(X_test, y_test)"
   ]
  },
  {
   "cell_type": "code",
   "execution_count": 20,
   "metadata": {},
   "outputs": [],
   "source": [
    "batch_size = 12\n",
    "train_loader = DataLoader(train_dataset, batch_size=batch_size)\n",
    "test_loader = DataLoader(test_dataset, batch_size=batch_size)"
   ]
  },
  {
   "attachments": {},
   "cell_type": "markdown",
   "metadata": {},
   "source": [
    "## Model"
   ]
  },
  {
   "cell_type": "code",
   "execution_count": 26,
   "metadata": {},
   "outputs": [],
   "source": [
    "class NeuralNet(nn.Module):\n",
    "    def __init__(self, input_size, hidden_size, num_classes):\n",
    "        super(NeuralNet, self).__init__()\n",
    "        self.l1 = nn.Linear(input_size, hidden_size)\n",
    "        self.relu = nn.ReLU()\n",
    "        self.l2 = nn.Linear(hidden_size, num_classes)\n",
    "        \n",
    "    def forward(self, x):\n",
    "        out = self.l1(x)\n",
    "        out = self.relu(out)\n",
    "        out = self.l2(out)\n",
    "        return out"
   ]
  },
  {
   "cell_type": "code",
   "execution_count": 27,
   "metadata": {},
   "outputs": [],
   "source": [
    "hidden_size = 256\n",
    "model = NeuralNet(X_train.shape[1], hidden_size, len(class_weights))"
   ]
  },
  {
   "cell_type": "code",
   "execution_count": 28,
   "metadata": {},
   "outputs": [
    {
     "data": {
      "text/plain": [
       "5"
      ]
     },
     "execution_count": 28,
     "metadata": {},
     "output_type": "execute_result"
    }
   ],
   "source": [
    "len(class_weights)"
   ]
  },
  {
   "attachments": {},
   "cell_type": "markdown",
   "metadata": {},
   "source": [
    "## Loss & Optimizer"
   ]
  },
  {
   "cell_type": "code",
   "execution_count": 29,
   "metadata": {},
   "outputs": [],
   "source": [
    "learning_rate = 0.01\n",
    "criterion = nn.CrossEntropyLoss(weight=torch.from_numpy(class_weights.astype(np.float32)))\n",
    "optimizer = torch.optim.Adam(model.parameters(), lr=learning_rate)"
   ]
  },
  {
   "attachments": {},
   "cell_type": "markdown",
   "metadata": {},
   "source": [
    "## Training"
   ]
  },
  {
   "cell_type": "code",
   "execution_count": 30,
   "metadata": {},
   "outputs": [
    {
     "name": "stderr",
     "output_type": "stream",
     "text": [
      "Epoch [0/40]: 100%|██████████| 67/67 [00:00<00:00, 232.19it/s, acc=0.583, loss=0.837]\n",
      "Epoch [1/40]: 100%|██████████| 67/67 [00:00<00:00, 248.00it/s, acc=0.75, loss=0.552] \n",
      "Epoch [2/40]: 100%|██████████| 67/67 [00:00<00:00, 158.11it/s, acc=0.833, loss=0.415]\n",
      "Epoch [3/40]: 100%|██████████| 67/67 [00:00<00:00, 195.21it/s, acc=1, loss=0.321]    \n",
      "Epoch [4/40]: 100%|██████████| 67/67 [00:00<00:00, 169.59it/s, acc=0.833, loss=0.284]\n",
      "Epoch [5/40]: 100%|██████████| 67/67 [00:00<00:00, 214.72it/s, acc=0.917, loss=0.272]\n",
      "Epoch [6/40]: 100%|██████████| 67/67 [00:00<00:00, 213.30it/s, acc=0.917, loss=0.237]\n",
      "Epoch [7/40]: 100%|██████████| 67/67 [00:00<00:00, 179.42it/s, acc=0.917, loss=0.281]\n",
      "Epoch [8/40]: 100%|██████████| 67/67 [00:00<00:00, 208.54it/s, acc=0.917, loss=0.214]\n",
      "Epoch [9/40]: 100%|██████████| 67/67 [00:00<00:00, 230.62it/s, acc=1, loss=0.141]    \n",
      "Epoch [10/40]: 100%|██████████| 67/67 [00:00<00:00, 218.28it/s, acc=1, loss=0.167]    \n",
      "Epoch [11/40]: 100%|██████████| 67/67 [00:00<00:00, 226.49it/s, acc=1, loss=0.119]    \n",
      "Epoch [12/40]: 100%|██████████| 67/67 [00:00<00:00, 159.39it/s, acc=1, loss=0.0728]    \n",
      "Epoch [13/40]: 100%|██████████| 67/67 [00:00<00:00, 206.73it/s, acc=1, loss=0.0757]   \n",
      "Epoch [14/40]: 100%|██████████| 67/67 [00:00<00:00, 188.07it/s, acc=1, loss=0.0575]   \n",
      "Epoch [15/40]: 100%|██████████| 67/67 [00:00<00:00, 213.77it/s, acc=1, loss=0.0446]   \n",
      "Epoch [16/40]: 100%|██████████| 67/67 [00:00<00:00, 164.00it/s, acc=1, loss=0.0357]    \n",
      "Epoch [17/40]: 100%|██████████| 67/67 [00:00<00:00, 202.66it/s, acc=1, loss=0.0413]   \n",
      "Epoch [18/40]: 100%|██████████| 67/67 [00:00<00:00, 167.57it/s, acc=1, loss=0.0382]   \n",
      "Epoch [19/40]: 100%|██████████| 67/67 [00:00<00:00, 201.91it/s, acc=1, loss=0.0408]    \n",
      "Epoch [20/40]: 100%|██████████| 67/67 [00:00<00:00, 212.89it/s, acc=1, loss=0.0439]   \n",
      "Epoch [21/40]: 100%|██████████| 67/67 [00:00<00:00, 179.14it/s, acc=1, loss=0.0434]    \n",
      "Epoch [22/40]: 100%|██████████| 67/67 [00:00<00:00, 191.43it/s, acc=1, loss=0.0257]    \n",
      "Epoch [23/40]: 100%|██████████| 67/67 [00:00<00:00, 132.01it/s, acc=1, loss=0.0429]   \n",
      "Epoch [24/40]: 100%|██████████| 67/67 [00:00<00:00, 169.13it/s, acc=1, loss=0.0304]    \n",
      "Epoch [25/40]: 100%|██████████| 67/67 [00:00<00:00, 177.14it/s, acc=1, loss=0.0182]    \n",
      "Epoch [26/40]: 100%|██████████| 67/67 [00:00<00:00, 207.36it/s, acc=1, loss=0.0189]    \n",
      "Epoch [27/40]: 100%|██████████| 67/67 [00:00<00:00, 123.55it/s, acc=1, loss=0.01]      \n",
      "Epoch [28/40]: 100%|██████████| 67/67 [00:00<00:00, 170.46it/s, acc=1, loss=0.0112]    \n",
      "Epoch [29/40]: 100%|██████████| 67/67 [00:00<00:00, 165.75it/s, acc=1, loss=0.0184]   \n",
      "Epoch [30/40]: 100%|██████████| 67/67 [00:00<00:00, 177.10it/s, acc=1, loss=0.0105]   \n",
      "Epoch [31/40]: 100%|██████████| 67/67 [00:00<00:00, 196.81it/s, acc=1, loss=0.013]     \n",
      "Epoch [32/40]: 100%|██████████| 67/67 [00:00<00:00, 210.22it/s, acc=1, loss=0.0127]    \n",
      "Epoch [33/40]: 100%|██████████| 67/67 [00:00<00:00, 178.19it/s, acc=1, loss=0.0342]    \n",
      "Epoch [34/40]: 100%|██████████| 67/67 [00:00<00:00, 197.23it/s, acc=1, loss=0.0263]    \n",
      "Epoch [35/40]: 100%|██████████| 67/67 [00:00<00:00, 204.98it/s, acc=1, loss=0.0215]    \n",
      "Epoch [36/40]: 100%|██████████| 67/67 [00:00<00:00, 199.42it/s, acc=1, loss=0.0181]    \n",
      "Epoch [37/40]: 100%|██████████| 67/67 [00:00<00:00, 189.16it/s, acc=1, loss=0.00754]   \n",
      "Epoch [38/40]: 100%|██████████| 67/67 [00:00<00:00, 167.23it/s, acc=1, loss=0.00714]   \n",
      "Epoch [39/40]: 100%|██████████| 67/67 [00:00<00:00, 207.97it/s, acc=0.917, loss=0.123] \n"
     ]
    }
   ],
   "source": [
    "num_epoch = 40\n",
    "for epoch in range(num_epoch):\n",
    "    train_acc = 0\n",
    "    train_loss = 0\n",
    "    loop = tqdm(train_loader)\n",
    "    for idx, (features, labels) in enumerate(loop):\n",
    "        outputs = model(features)\n",
    "        loss = criterion(outputs, labels)\n",
    "\n",
    "        predictions = outputs.argmax(dim=1, keepdim=True).squeeze()\n",
    "        correct = (predictions == labels).sum().item()\n",
    "        accuracy = correct / batch_size\n",
    "        optimizer.zero_grad()\n",
    "        loss.backward()\n",
    "        optimizer.step()\n",
    "\n",
    "        loop.set_description(f\"Epoch [{epoch}/{num_epoch}]\")\n",
    "        loop.set_postfix(loss=loss.item(), acc=accuracy)\n"
   ]
  },
  {
   "attachments": {},
   "cell_type": "markdown",
   "metadata": {},
   "source": [
    "## Test Model"
   ]
  },
  {
   "cell_type": "code",
   "execution_count": 31,
   "metadata": {},
   "outputs": [
    {
     "data": {
      "text/plain": [
       "tensor([0, 3, 4, 0, 2, 0, 3, 4, 3, 3, 1, 4, 0, 1, 1, 1, 0, 2, 2, 1, 3, 1, 0, 2,\n",
       "        3, 4, 4, 4, 3, 3, 2, 1, 3, 4, 1, 2, 3, 1, 3, 0, 1, 4, 1, 3, 1, 0, 0, 1,\n",
       "        0, 3, 1, 2, 1, 3, 3, 0, 0, 2, 0, 3, 0, 3, 1, 0, 3, 0, 4, 0, 1, 1, 0, 4,\n",
       "        2, 0, 4, 1, 4, 1, 3, 1, 3, 2, 4, 4, 2, 0, 0, 2, 0, 4, 4, 1, 2, 3, 4, 1,\n",
       "        0, 0, 3, 4, 1, 3, 0, 1, 2, 1, 0, 1, 2, 1, 0, 4, 4, 3, 3, 2, 4, 3, 2, 0,\n",
       "        3, 4, 4, 1, 3, 4, 1, 1, 1, 2, 0, 3, 0, 4, 4, 0, 1, 0, 1, 3, 0, 1, 3, 3,\n",
       "        4, 3, 1, 3, 3, 1, 1, 3, 1, 4, 0, 2, 4, 1, 2, 3, 3, 4, 4, 4, 4, 3, 2, 3,\n",
       "        3, 4, 0, 3, 3, 3, 2, 2, 3, 2, 1, 2, 0, 1, 2, 0, 2, 2, 1, 0, 4, 1, 4, 4,\n",
       "        1, 0, 3, 1, 3, 2, 2, 0, 0, 2])"
      ]
     },
     "execution_count": 31,
     "metadata": {},
     "output_type": "execute_result"
    }
   ],
   "source": [
    "test_features = torch.from_numpy(X_test.astype(np.float32))\n",
    "test_labels = y_test\n",
    "with torch.no_grad():\n",
    "    outputs = model(test_features)\n",
    "    _, predictions = torch.max(outputs, 1)\n",
    "predictions"
   ]
  },
  {
   "cell_type": "code",
   "execution_count": 32,
   "metadata": {},
   "outputs": [
    {
     "name": "stdout",
     "output_type": "stream",
     "text": [
      "              precision    recall  f1-score   support\n",
      "\n",
      "     Downdog       0.95      0.97      0.96        40\n",
      "     Goddess       0.85      0.95      0.90        41\n",
      "       Plank       1.00      0.78      0.87        40\n",
      "        Tree       0.83      0.95      0.89        41\n",
      "    Warrior2       0.95      0.88      0.91        40\n",
      "\n",
      "    accuracy                           0.91       202\n",
      "   macro avg       0.91      0.91      0.91       202\n",
      "weighted avg       0.91      0.91      0.91       202\n",
      "\n"
     ]
    }
   ],
   "source": [
    "print(classification_report(test_labels, predictions, target_names=encoder.classes_))"
   ]
  },
  {
   "cell_type": "code",
   "execution_count": 33,
   "metadata": {},
   "outputs": [
    {
     "data": {
      "text/html": [
       "<div>\n",
       "<style scoped>\n",
       "    .dataframe tbody tr th:only-of-type {\n",
       "        vertical-align: middle;\n",
       "    }\n",
       "\n",
       "    .dataframe tbody tr th {\n",
       "        vertical-align: top;\n",
       "    }\n",
       "\n",
       "    .dataframe thead th {\n",
       "        text-align: right;\n",
       "    }\n",
       "</style>\n",
       "<table border=\"1\" class=\"dataframe\">\n",
       "  <thead>\n",
       "    <tr style=\"text-align: right;\">\n",
       "      <th></th>\n",
       "      <th>Downdog</th>\n",
       "      <th>Goddess</th>\n",
       "      <th>Plank</th>\n",
       "      <th>Tree</th>\n",
       "      <th>Warrior2</th>\n",
       "    </tr>\n",
       "  </thead>\n",
       "  <tbody>\n",
       "    <tr>\n",
       "      <th>Downdog</th>\n",
       "      <td>39</td>\n",
       "      <td>1</td>\n",
       "      <td>0</td>\n",
       "      <td>0</td>\n",
       "      <td>0</td>\n",
       "    </tr>\n",
       "    <tr>\n",
       "      <th>Goddess</th>\n",
       "      <td>1</td>\n",
       "      <td>39</td>\n",
       "      <td>0</td>\n",
       "      <td>1</td>\n",
       "      <td>0</td>\n",
       "    </tr>\n",
       "    <tr>\n",
       "      <th>Plank</th>\n",
       "      <td>1</td>\n",
       "      <td>0</td>\n",
       "      <td>31</td>\n",
       "      <td>7</td>\n",
       "      <td>1</td>\n",
       "    </tr>\n",
       "    <tr>\n",
       "      <th>Tree</th>\n",
       "      <td>0</td>\n",
       "      <td>1</td>\n",
       "      <td>0</td>\n",
       "      <td>39</td>\n",
       "      <td>1</td>\n",
       "    </tr>\n",
       "    <tr>\n",
       "      <th>Warrior2</th>\n",
       "      <td>0</td>\n",
       "      <td>5</td>\n",
       "      <td>0</td>\n",
       "      <td>0</td>\n",
       "      <td>35</td>\n",
       "    </tr>\n",
       "  </tbody>\n",
       "</table>\n",
       "</div>"
      ],
      "text/plain": [
       "          Downdog  Goddess  Plank  Tree  Warrior2\n",
       "Downdog        39        1      0     0         0\n",
       "Goddess         1       39      0     1         0\n",
       "Plank           1        0     31     7         1\n",
       "Tree            0        1      0    39         1\n",
       "Warrior2        0        5      0     0        35"
      ]
     },
     "execution_count": 33,
     "metadata": {},
     "output_type": "execute_result"
    }
   ],
   "source": [
    "cm = confusion_matrix(test_labels, predictions)\n",
    "df_cm = pd.DataFrame(\n",
    "    cm, \n",
    "    index = encoder.classes_,\n",
    "    columns = encoder.classes_\n",
    ")\n",
    "df_cm"
   ]
  },
  {
   "cell_type": "code",
   "execution_count": 34,
   "metadata": {},
   "outputs": [
    {
     "name": "stderr",
     "output_type": "stream",
     "text": [
      "No artists with labels found to put in legend.  Note that artists whose label start with an underscore are ignored when legend() is called with no argument.\n"
     ]
    },
    {
     "data": {
      "image/png": "[encoded data removed]",
      "text/plain": [
       "<Figure size 640x480 with 2 Axes>"
      ]
     },
     "metadata": {},
     "output_type": "display_data"
    }
   ],
   "source": [
    "import seaborn as sns\n",
    "def show_confusion_matrix(confusion_matrix):\n",
    "    hmap = sns.heatmap(confusion_matrix, annot=True, fmt=\"d\", cmap=\"Blues\")\n",
    "    plt.ylabel(\"Surface Ground Truth\")\n",
    "    plt.xlabel(\"Predicted Surface\")\n",
    "    plt.legend()\n",
    "    \n",
    "show_confusion_matrix(df_cm)"
   ]
  },
  {
   "attachments": {},
   "cell_type": "markdown",
   "metadata": {},
   "source": [
    "## save model\n"
   ]
  },
  {
   "cell_type": "code",
   "execution_count": 35,
   "metadata": {},
   "outputs": [],
   "source": [
    "PATH_SAVE = '/Users/alimustofa/Me/source-code/AI/YoloV8_Pose_Classification/models/pose_classification.pt'\n",
    "torch.save(model.state_dict(), PATH_SAVE)"
   ]
  },
  {
   "attachments": {},
   "cell_type": "markdown",
   "metadata": {},
   "source": [
    "## Load Inference Model"
   ]
  },
  {
   "cell_type": "code",
   "execution_count": 36,
   "metadata": {},
   "outputs": [
    {
     "data": {
      "text/plain": [
       "<All keys matched successfully>"
      ]
     },
     "execution_count": 36,
     "metadata": {},
     "output_type": "execute_result"
    }
   ],
   "source": [
    "model_inference =  NeuralNet(\n",
    "        X_train.shape[1], \n",
    "        hidden_size, \n",
    "        len(class_weights)\n",
    "    )\n",
    "\n",
    "model_inference.load_state_dict(\n",
    "        torch.load(PATH_SAVE, map_location=device)\n",
    "    )"
   ]
  },
  {
   "cell_type": "code",
   "execution_count": 41,
   "metadata": {},
   "outputs": [
    {
     "name": "stdout",
     "output_type": "stream",
     "text": [
      "    prediction label : Plank \n",
      "    ground thrut label : Plank\n"
     ]
    }
   ],
   "source": [
    "feature, label = test_dataset.__getitem__(51)\n",
    "\n",
    "out = model_inference(feature)\n",
    "_, predict = torch.max(out, -1)\n",
    "print(f'\\\n",
    "    prediction label : {encoder.classes_[predict]} \\n\\\n",
    "    ground thrut label : {encoder.classes_[label]}'\n",
    "    )"
   ]
  },
  {
   "cell_type": "code",
   "execution_count": 133,
   "metadata": {},
   "outputs": [
    {
     "data": {
      "text/plain": [
       "array(['Downdog', 'Goddess', 'Plank', 'Tree', 'Warrior2'], dtype=object)"
      ]
     },
     "execution_count": 133,
     "metadata": {},
     "output_type": "execute_result"
    }
   ],
   "source": [
    "encoder.classes_"
   ]
  }
 ],
 "metadata": {
  "kernelspec": {
   "display_name": "Python 3",
   "language": "python",
   "name": "python3"
  },
  "language_info": {
   "codemirror_mode": {
    "name": "ipython",
    "version": 3
   },
   "file_extension": ".py",
   "mimetype": "text/x-python",
   "name": "python",
   "nbconvert_exporter": "python",
   "pygments_lexer": "ipython3",
   "version": "3.9.2"
  },
  "orig_nbformat": 4
 },
 "nbformat": 4,
 "nbformat_minor": 2
}
